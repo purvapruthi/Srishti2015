{
 "metadata": {
  "name": "",
  "signature": "sha256:3c9624a57f53d43b1f2325eefa73a448da87eb41b89296c5db379a753a99325e"
 },
 "nbformat": 3,
 "nbformat_minor": 0,
 "worksheets": [
  {
   "cells": [
    {
     "cell_type": "code",
     "collapsed": false,
     "input": [
      "import searchenginev_2\n",
      "reload(searchenginev_2)"
     ],
     "language": "python",
     "metadata": {},
     "outputs": [
      {
       "metadata": {},
       "output_type": "pyout",
       "prompt_number": 3,
       "text": [
        "<module 'searchenginev_2' from 'searchenginev_2.pyc'>"
       ]
      }
     ],
     "prompt_number": 3
    },
    {
     "cell_type": "code",
     "collapsed": false,
     "input": [
      "searcher = searchenginev_2.searcher(\"final_engine.db\")\n",
      "searcher.query(\"test\")\n"
     ],
     "language": "python",
     "metadata": {},
     "outputs": [
      {
       "output_type": "stream",
       "stream": "stdout",
       "text": [
        "Score\t\t\tURL\n",
        "2.000000\thttp://mmb.moneycontrol.com/india/messageboardblog/message_thread/26112403/27912403#m26112403\n",
        "2.000000\thttp://gadgets.ndtv.com/shortlink.aspx?article=603824\n",
        "1.500000\thttp://indianexpress.com/article/sports/cricket/younis-khan-azhar-ali-make-australia-toil-hard-in-second-test/\n",
        "1.500000\thttp://sports.ndtv.com/cricket/news/232277-younis-khan-slams-third-successive-test-ton-smashes-records\n",
        "1.500000\thttp://www.huffingtonpost.com/2014/10/30/prop-46-drug-test-doctors_n_6071820.html\n",
        "1.500000\thttp://zeenews.india.com/sports/cricket/2nd-test-pakistan-vs-australia-%E2%80%93-live-score_1491546.html\n",
        "1.500000\thttps://cricket.yahoo.com/prematch-pakistan-vs-australia_189016\n",
        "1.500000\thttp://www.bbc.co.uk/sport/cricket/scorecard/89340\n",
        "1.500000\thttp://www.hindustantimes.com/sports-news/cricketnews/pakistan-wins-toss-bats-in-2nd-test-vs-australia/article1-1280442.aspx\n",
        "1.500000\thttp://www.gocricket.com/live-score/pak-vs-aus/pkau10302014176166/quickview\n"
       ]
      },
      {
       "metadata": {},
       "output_type": "pyout",
       "prompt_number": 8,
       "text": [
        "([1341],\n",
        " [158268,\n",
        "  52191,\n",
        "  186232,\n",
        "  186117,\n",
        "  185974,\n",
        "  184288,\n",
        "  184179,\n",
        "  184115,\n",
        "  183611,\n",
        "  183471])"
       ]
      }
     ],
     "prompt_number": 8
    },
    {
     "cell_type": "code",
     "collapsed": false,
     "input": [],
     "language": "python",
     "metadata": {},
     "outputs": []
    }
   ],
   "metadata": {}
  }
 ]
}